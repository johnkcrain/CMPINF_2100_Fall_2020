{
 "cells": [
  {
   "cell_type": "markdown",
   "metadata": {},
   "source": [
    "## Generating random numbers\n",
    "\n",
    "We will use the `random` module or library."
   ]
  },
  {
   "cell_type": "code",
   "execution_count": 1,
   "metadata": {},
   "outputs": [],
   "source": [
    "import random"
   ]
  },
  {
   "cell_type": "code",
   "execution_count": 2,
   "metadata": {},
   "outputs": [
    {
     "name": "stdout",
     "output_type": "stream",
     "text": [
      "Variable   Type      Data/Info\n",
      "------------------------------\n",
      "random     module    <module 'random' from 'C:<...>s\\\\py38\\\\lib\\\\random.py'>\n"
     ]
    }
   ],
   "source": [
    "%whos"
   ]
  },
  {
   "cell_type": "markdown",
   "metadata": {},
   "source": [
    "Fixing the random *seed*."
   ]
  },
  {
   "cell_type": "code",
   "execution_count": 3,
   "metadata": {},
   "outputs": [],
   "source": [
    "random.seed(10)"
   ]
  },
  {
   "cell_type": "code",
   "execution_count": 4,
   "metadata": {},
   "outputs": [
    {
     "data": {
      "text/plain": [
       "0.5714025946899135"
      ]
     },
     "execution_count": 4,
     "metadata": {},
     "output_type": "execute_result"
    }
   ],
   "source": [
    "random.random()"
   ]
  },
  {
   "cell_type": "code",
   "execution_count": 5,
   "metadata": {},
   "outputs": [
    {
     "data": {
      "text/plain": [
       "0.4288890546751146"
      ]
     },
     "execution_count": 5,
     "metadata": {},
     "output_type": "execute_result"
    }
   ],
   "source": [
    "random.random()"
   ]
  },
  {
   "cell_type": "code",
   "execution_count": 8,
   "metadata": {},
   "outputs": [],
   "source": [
    "random.seed(10)"
   ]
  },
  {
   "cell_type": "code",
   "execution_count": 9,
   "metadata": {},
   "outputs": [
    {
     "name": "stdout",
     "output_type": "stream",
     "text": [
      "0.5714025946899135\n",
      "0.4288890546751146\n"
     ]
    }
   ],
   "source": [
    "print( random.random() )\n",
    "\n",
    "print( random.random() )"
   ]
  },
  {
   "cell_type": "markdown",
   "metadata": {},
   "source": [
    "Assign the result of our `random.random()` call to objects."
   ]
  },
  {
   "cell_type": "code",
   "execution_count": 10,
   "metadata": {},
   "outputs": [],
   "source": [
    "random.seed(20)\n",
    "\n",
    "x_a = [ random.random(), random.random() ]\n",
    "\n",
    "random.seed(20)\n",
    "\n",
    "x_b = [ random.random(), random.random() ]"
   ]
  },
  {
   "cell_type": "code",
   "execution_count": 11,
   "metadata": {},
   "outputs": [
    {
     "name": "stdout",
     "output_type": "stream",
     "text": [
      "Variable   Type      Data/Info\n",
      "------------------------------\n",
      "random     module    <module 'random' from 'C:<...>s\\\\py38\\\\lib\\\\random.py'>\n",
      "x_a        list      n=2\n",
      "x_b        list      n=2\n"
     ]
    }
   ],
   "source": [
    "%whos"
   ]
  },
  {
   "cell_type": "code",
   "execution_count": 12,
   "metadata": {},
   "outputs": [
    {
     "name": "stdout",
     "output_type": "stream",
     "text": [
      "True\n"
     ]
    }
   ],
   "source": [
    "print( x_a == x_b )"
   ]
  },
  {
   "cell_type": "code",
   "execution_count": 13,
   "metadata": {},
   "outputs": [
    {
     "name": "stdout",
     "output_type": "stream",
     "text": [
      "[0.9056396761745207, 0.6862541570267026]\n",
      "[0.9056396761745207, 0.6862541570267026]\n"
     ]
    }
   ],
   "source": [
    "print( x_a )\n",
    "\n",
    "print( x_b )"
   ]
  },
  {
   "cell_type": "code",
   "execution_count": 14,
   "metadata": {},
   "outputs": [
    {
     "data": {
      "text/plain": [
       "False"
      ]
     },
     "execution_count": 14,
     "metadata": {},
     "output_type": "execute_result"
    }
   ],
   "source": [
    "# BUT these are NOT the same OBJECTS\n",
    "\n",
    "x_a is x_b"
   ]
  },
  {
   "cell_type": "markdown",
   "metadata": {},
   "source": [
    "## Generate multiple random numbers\n",
    "\n",
    "We will iterate and call `random.random()` programmatically many, many, many times. We will assign the result to a list."
   ]
  },
  {
   "cell_type": "markdown",
   "metadata": {},
   "source": [
    "### Use a for-loop and `.append()` method"
   ]
  },
  {
   "cell_type": "code",
   "execution_count": 15,
   "metadata": {},
   "outputs": [
    {
     "name": "stdout",
     "output_type": "stream",
     "text": [
      "0\n"
     ]
    }
   ],
   "source": [
    "random.seed(11) # set the seed\n",
    "\n",
    "xu = [] # initialize the list\n",
    "\n",
    "print( len(xu) )\n",
    "\n",
    "for ix in range(7):\n",
    "    xu.append( random.random() )"
   ]
  },
  {
   "cell_type": "code",
   "execution_count": 16,
   "metadata": {},
   "outputs": [
    {
     "name": "stdout",
     "output_type": "stream",
     "text": [
      "7\n"
     ]
    }
   ],
   "source": [
    "print( len(xu) )"
   ]
  },
  {
   "cell_type": "code",
   "execution_count": 17,
   "metadata": {},
   "outputs": [
    {
     "name": "stdout",
     "output_type": "stream",
     "text": [
      "[0.4523795535098186, 0.559772386080496, 0.9242105840237294, 0.4656500700997733, 0.5078412730622711, 0.587384828849897, 0.18466034385487662]\n"
     ]
    }
   ],
   "source": [
    "print( xu )"
   ]
  },
  {
   "cell_type": "code",
   "execution_count": 18,
   "metadata": {},
   "outputs": [
    {
     "name": "stdout",
     "output_type": "stream",
     "text": [
      "Variable   Type      Data/Info\n",
      "------------------------------\n",
      "ix         int       6\n",
      "random     module    <module 'random' from 'C:<...>s\\\\py38\\\\lib\\\\random.py'>\n",
      "x_a        list      n=2\n",
      "x_b        list      n=2\n",
      "xu         list      n=7\n"
     ]
    }
   ],
   "source": [
    "%whos"
   ]
  },
  {
   "cell_type": "code",
   "execution_count": 19,
   "metadata": {},
   "outputs": [
    {
     "name": "stdout",
     "output_type": "stream",
     "text": [
      "0\n",
      "1\n",
      "2\n",
      "3\n",
      "3\n"
     ]
    }
   ],
   "source": [
    "for n in range(0, 4):\n",
    "    print( n )\n",
    "print( n )"
   ]
  },
  {
   "cell_type": "code",
   "execution_count": 20,
   "metadata": {},
   "outputs": [
    {
     "name": "stdout",
     "output_type": "stream",
     "text": [
      "0\n",
      "1\n",
      "2\n",
      "3\n",
      "3\n"
     ]
    }
   ],
   "source": [
    "for n2 in range(4):\n",
    "    print( n2 )\n",
    "print(n2)"
   ]
  },
  {
   "cell_type": "code",
   "execution_count": 21,
   "metadata": {},
   "outputs": [
    {
     "name": "stdout",
     "output_type": "stream",
     "text": [
      "0\n",
      "a\n",
      "0\n",
      "b\n",
      "0\n",
      "c\n",
      "*--*\n",
      "1\n",
      "a\n",
      "1\n",
      "b\n",
      "1\n",
      "c\n",
      "*--*\n",
      "2\n",
      "a\n",
      "2\n",
      "b\n",
      "2\n",
      "c\n",
      "*--*\n",
      "3\n",
      "a\n",
      "3\n",
      "b\n",
      "3\n",
      "c\n",
      "*--*\n",
      "3\n",
      "c\n"
     ]
    }
   ],
   "source": [
    "for n1 in range(4):\n",
    "    for n2 in ['a', 'b', 'c']:\n",
    "        print( n1 )\n",
    "        print( n2 )\n",
    "    print('*--*')\n",
    "print( n1 )\n",
    "print( n2 )"
   ]
  },
  {
   "cell_type": "markdown",
   "metadata": {},
   "source": [
    "### List comprehensions"
   ]
  },
  {
   "cell_type": "code",
   "execution_count": 22,
   "metadata": {},
   "outputs": [],
   "source": [
    "# structure of a list comprehension\n",
    "\n",
    "# <output> = [ <action to perform iterating over a variable> for <variable> in <sequence> ]"
   ]
  },
  {
   "cell_type": "code",
   "execution_count": 23,
   "metadata": {},
   "outputs": [],
   "source": [
    "random.seed(11) # setting the seed\n",
    "\n",
    "xu_b = [ random.random() for _ in range(7) ]"
   ]
  },
  {
   "cell_type": "code",
   "execution_count": 24,
   "metadata": {},
   "outputs": [
    {
     "name": "stdout",
     "output_type": "stream",
     "text": [
      "[0.4523795535098186, 0.559772386080496, 0.9242105840237294, 0.4656500700997733, 0.5078412730622711, 0.587384828849897, 0.18466034385487662]\n"
     ]
    }
   ],
   "source": [
    "print( xu_b )"
   ]
  },
  {
   "cell_type": "code",
   "execution_count": 25,
   "metadata": {},
   "outputs": [
    {
     "name": "stdout",
     "output_type": "stream",
     "text": [
      "True\n"
     ]
    }
   ],
   "source": [
    "# confirm that `xu` and `xu_b` are the SAME VALUES\n",
    "\n",
    "print( xu == xu_b )"
   ]
  },
  {
   "cell_type": "markdown",
   "metadata": {},
   "source": [
    "## Calculate the average\n",
    "\n",
    "The average of $N$ observations of the variables $x_n$ where $n=1,...,N$:  \n",
    "\n",
    "$$ \\bar{x} = \\frac{1}{N} \\sum_{n=1}^{N} \\left( x_n \\right) $$"
   ]
  },
  {
   "cell_type": "code",
   "execution_count": 26,
   "metadata": {},
   "outputs": [
    {
     "name": "stdout",
     "output_type": "stream",
     "text": [
      "6\n"
     ]
    }
   ],
   "source": [
    "print( sum( [1, 2, 3] ) )"
   ]
  },
  {
   "cell_type": "code",
   "execution_count": 27,
   "metadata": {},
   "outputs": [
    {
     "name": "stdout",
     "output_type": "stream",
     "text": [
      "3\n"
     ]
    }
   ],
   "source": [
    "print( len([1, 2, 3] ) )"
   ]
  },
  {
   "cell_type": "code",
   "execution_count": 28,
   "metadata": {},
   "outputs": [
    {
     "name": "stdout",
     "output_type": "stream",
     "text": [
      "2.0\n"
     ]
    }
   ],
   "source": [
    "print( sum([1,2,3]) / len([1, 2, 3]))"
   ]
  },
  {
   "cell_type": "markdown",
   "metadata": {},
   "source": [
    "### create a function to calculate the average\n",
    "\n",
    "We will assume the values are in a list and they are integers or floats."
   ]
  },
  {
   "cell_type": "code",
   "execution_count": 29,
   "metadata": {},
   "outputs": [],
   "source": [
    "def my_avg(x):\n",
    "    \"\"\"\n",
    "    calculate the average of a list of integers or floats\n",
    "    \"\"\"\n",
    "    return sum(x) / len(x)"
   ]
  },
  {
   "cell_type": "code",
   "execution_count": 30,
   "metadata": {},
   "outputs": [
    {
     "name": "stdout",
     "output_type": "stream",
     "text": [
      "Variable   Type        Data/Info\n",
      "--------------------------------\n",
      "ix         int         6\n",
      "my_avg     function    <function my_avg at 0x0000015D408F10D0>\n",
      "n          int         3\n",
      "n1         int         3\n",
      "n2         str         c\n",
      "random     module      <module 'random' from 'C:<...>s\\\\py38\\\\lib\\\\random.py'>\n",
      "x_a        list        n=2\n",
      "x_b        list        n=2\n",
      "xu         list        n=7\n",
      "xu_b       list        n=7\n"
     ]
    }
   ],
   "source": [
    "%whos"
   ]
  },
  {
   "cell_type": "code",
   "execution_count": 31,
   "metadata": {},
   "outputs": [
    {
     "data": {
      "text/plain": [
       "2.0"
      ]
     },
     "execution_count": 31,
     "metadata": {},
     "output_type": "execute_result"
    }
   ],
   "source": [
    "my_avg( [1, 2, 3] )"
   ]
  },
  {
   "cell_type": "code",
   "execution_count": 32,
   "metadata": {},
   "outputs": [
    {
     "data": {
      "text/plain": [
       "2.0"
      ]
     },
     "execution_count": 32,
     "metadata": {},
     "output_type": "execute_result"
    }
   ],
   "source": [
    "my_avg( [1.0, 2.0, 3.0] )"
   ]
  },
  {
   "cell_type": "code",
   "execution_count": 33,
   "metadata": {},
   "outputs": [
    {
     "ename": "TypeError",
     "evalue": "my_avg() missing 1 required positional argument: 'x'",
     "output_type": "error",
     "traceback": [
      "\u001b[1;31m---------------------------------------------------------------------------\u001b[0m",
      "\u001b[1;31mTypeError\u001b[0m                                 Traceback (most recent call last)",
      "\u001b[1;32m<ipython-input-33-f1313df81be0>\u001b[0m in \u001b[0;36m<module>\u001b[1;34m\u001b[0m\n\u001b[1;32m----> 1\u001b[1;33m \u001b[0mmy_avg\u001b[0m\u001b[1;33m(\u001b[0m\u001b[1;33m)\u001b[0m\u001b[1;33m\u001b[0m\u001b[1;33m\u001b[0m\u001b[0m\n\u001b[0m",
      "\u001b[1;31mTypeError\u001b[0m: my_avg() missing 1 required positional argument: 'x'"
     ]
    }
   ],
   "source": [
    "my_avg()"
   ]
  },
  {
   "cell_type": "code",
   "execution_count": 34,
   "metadata": {},
   "outputs": [
    {
     "ename": "TypeError",
     "evalue": "unsupported operand type(s) for +: 'int' and 'str'",
     "output_type": "error",
     "traceback": [
      "\u001b[1;31m---------------------------------------------------------------------------\u001b[0m",
      "\u001b[1;31mTypeError\u001b[0m                                 Traceback (most recent call last)",
      "\u001b[1;32m<ipython-input-34-e1cfcd39f6dc>\u001b[0m in \u001b[0;36m<module>\u001b[1;34m\u001b[0m\n\u001b[1;32m----> 1\u001b[1;33m \u001b[0mmy_avg\u001b[0m\u001b[1;33m(\u001b[0m\u001b[1;33m[\u001b[0m\u001b[1;34m'aol'\u001b[0m\u001b[1;33m,\u001b[0m \u001b[1;34m'yahoo'\u001b[0m\u001b[1;33m,\u001b[0m \u001b[1;34m'gmail'\u001b[0m\u001b[1;33m]\u001b[0m\u001b[1;33m)\u001b[0m\u001b[1;33m\u001b[0m\u001b[1;33m\u001b[0m\u001b[0m\n\u001b[0m",
      "\u001b[1;32m<ipython-input-29-cf00ba3d0f8d>\u001b[0m in \u001b[0;36mmy_avg\u001b[1;34m(x)\u001b[0m\n\u001b[0;32m      3\u001b[0m     \u001b[0mcalculate\u001b[0m \u001b[0mthe\u001b[0m \u001b[0maverage\u001b[0m \u001b[0mof\u001b[0m \u001b[0ma\u001b[0m \u001b[0mlist\u001b[0m \u001b[0mof\u001b[0m \u001b[0mintegers\u001b[0m \u001b[1;32mor\u001b[0m \u001b[0mfloats\u001b[0m\u001b[1;33m\u001b[0m\u001b[1;33m\u001b[0m\u001b[0m\n\u001b[0;32m      4\u001b[0m     \"\"\"\n\u001b[1;32m----> 5\u001b[1;33m     \u001b[1;32mreturn\u001b[0m \u001b[0msum\u001b[0m\u001b[1;33m(\u001b[0m\u001b[0mx\u001b[0m\u001b[1;33m)\u001b[0m \u001b[1;33m/\u001b[0m \u001b[0mlen\u001b[0m\u001b[1;33m(\u001b[0m\u001b[0mx\u001b[0m\u001b[1;33m)\u001b[0m\u001b[1;33m\u001b[0m\u001b[1;33m\u001b[0m\u001b[0m\n\u001b[0m",
      "\u001b[1;31mTypeError\u001b[0m: unsupported operand type(s) for +: 'int' and 'str'"
     ]
    }
   ],
   "source": [
    "my_avg(['aol', 'yahoo', 'gmail'])"
   ]
  },
  {
   "cell_type": "markdown",
   "metadata": {},
   "source": [
    "### Apply our average function"
   ]
  },
  {
   "cell_type": "code",
   "execution_count": 35,
   "metadata": {},
   "outputs": [],
   "source": [
    "random.seed(21)\n",
    "\n",
    "yu = [ random.random() for _ in range(7) ]\n",
    "\n",
    "zu = [ random.random() for _ in range(7) ]"
   ]
  },
  {
   "cell_type": "code",
   "execution_count": 36,
   "metadata": {},
   "outputs": [
    {
     "name": "stdout",
     "output_type": "stream",
     "text": [
      "False\n"
     ]
    }
   ],
   "source": [
    "print( yu == zu )"
   ]
  },
  {
   "cell_type": "code",
   "execution_count": 37,
   "metadata": {},
   "outputs": [],
   "source": [
    "# do that action again\n",
    "\n",
    "random.seed(21)\n",
    "\n",
    "yu_b = [ random.random() for _ in range(7) ]\n",
    "\n",
    "zu_b = [ random.random() for _ in range(7) ]"
   ]
  },
  {
   "cell_type": "code",
   "execution_count": 38,
   "metadata": {},
   "outputs": [
    {
     "name": "stdout",
     "output_type": "stream",
     "text": [
      "True\n",
      "True\n"
     ]
    }
   ],
   "source": [
    "print( yu == yu_b )\n",
    "\n",
    "print( zu == zu_b )"
   ]
  },
  {
   "cell_type": "code",
   "execution_count": 39,
   "metadata": {},
   "outputs": [
    {
     "name": "stdout",
     "output_type": "stream",
     "text": [
      "[0.16494947983319797, 0.6897669242175674, 0.6349999404047206, 0.4791004720574512, 0.21601434789390284, 0.7926333582002464, 0.8078543019534277]\n",
      "[0.5124562396375931, 0.5050841534700117, 0.2360563634962105, 0.0031806306102971638, 0.3710466916321078, 0.5853624971821242, 0.06926476318331132]\n"
     ]
    }
   ],
   "source": [
    "print( yu )\n",
    "\n",
    "print( zu )"
   ]
  },
  {
   "cell_type": "code",
   "execution_count": 40,
   "metadata": {},
   "outputs": [
    {
     "name": "stdout",
     "output_type": "stream",
     "text": [
      "0.5407598320800735\n",
      "0.3260644770302365\n"
     ]
    }
   ],
   "source": [
    "print( my_avg(yu) )\n",
    "\n",
    "print( my_avg(zu) )"
   ]
  },
  {
   "cell_type": "markdown",
   "metadata": {},
   "source": [
    "#### WHICH IS CORRECT?????"
   ]
  },
  {
   "cell_type": "markdown",
   "metadata": {},
   "source": [
    "The sample average or empirical average is the arithmetic average."
   ]
  },
  {
   "cell_type": "markdown",
   "metadata": {},
   "source": [
    "* What's the average of the sampling distribution used to generate the random sequence?\n",
    "* Can we trust our *estimate* of the average based on our SAMPLE?"
   ]
  },
  {
   "cell_type": "markdown",
   "metadata": {},
   "source": [
    "## plotting with matplotlib"
   ]
  },
  {
   "cell_type": "code",
   "execution_count": 41,
   "metadata": {},
   "outputs": [],
   "source": [
    "import matplotlib.pyplot as plt"
   ]
  },
  {
   "cell_type": "code",
   "execution_count": 42,
   "metadata": {},
   "outputs": [
    {
     "name": "stdout",
     "output_type": "stream",
     "text": [
      "Variable   Type        Data/Info\n",
      "--------------------------------\n",
      "ix         int         6\n",
      "my_avg     function    <function my_avg at 0x0000015D408F10D0>\n",
      "n          int         3\n",
      "n1         int         3\n",
      "n2         str         c\n",
      "plt        module      <module 'matplotlib.pyplo<...>\\\\matplotlib\\\\pyplot.py'>\n",
      "random     module      <module 'random' from 'C:<...>s\\\\py38\\\\lib\\\\random.py'>\n",
      "x_a        list        n=2\n",
      "x_b        list        n=2\n",
      "xu         list        n=7\n",
      "xu_b       list        n=7\n",
      "yu         list        n=7\n",
      "yu_b       list        n=7\n",
      "zu         list        n=7\n",
      "zu_b       list        n=7\n"
     ]
    }
   ],
   "source": [
    "%whos"
   ]
  },
  {
   "cell_type": "code",
   "execution_count": 43,
   "metadata": {},
   "outputs": [],
   "source": [
    "# generate 1000 random values from random.random()\n",
    "\n",
    "random.seed(24)\n",
    "\n",
    "xu_1000 = [ random.random() for _ in range(1000) ]"
   ]
  },
  {
   "cell_type": "code",
   "execution_count": 51,
   "metadata": {},
   "outputs": [
    {
     "data": {
      "image/png": "[encoded data removed]",
      "text/plain": [
       "<Figure size 432x288 with 1 Axes>"
      ]
     },
     "metadata": {
      "needs_background": "light"
     },
     "output_type": "display_data"
    }
   ],
   "source": [
    "plt.hist(xu_1000, bins=11)\n",
    "plt.xlabel('x')\n",
    "plt.ylabel('count')\n",
    "plt.show()"
   ]
  },
  {
   "cell_type": "code",
   "execution_count": 52,
   "metadata": {},
   "outputs": [],
   "source": [
    "# if we wanted to use UNIFORM explicitly\n",
    "\n",
    "random.seed(81)\n",
    "\n",
    "xu_uniform = [ random.uniform(a=25, b=105) for _ in range(5000) ]"
   ]
  },
  {
   "cell_type": "code",
   "execution_count": 53,
   "metadata": {},
   "outputs": [
    {
     "data": {
      "image/png": "[encoded data removed]",
      "text/plain": [
       "<Figure size 432x288 with 1 Axes>"
      ]
     },
     "metadata": {
      "needs_background": "light"
     },
     "output_type": "display_data"
    }
   ],
   "source": [
    "plt.hist(xu_uniform, bins=21)\n",
    "plt.xlabel('uniform random number between 25 and 105')\n",
    "plt.ylabel('count')\n",
    "plt.show()"
   ]
  },
  {
   "cell_type": "code",
   "execution_count": 54,
   "metadata": {},
   "outputs": [],
   "source": [
    "# matplotlib.pyplot.hist()"
   ]
  },
  {
   "cell_type": "markdown",
   "metadata": {},
   "source": [
    "### Summarize our random samples \n",
    "\n",
    "Calculate the min, max, and average of the 1000 random samples between 0 and 1."
   ]
  },
  {
   "cell_type": "code",
   "execution_count": 55,
   "metadata": {},
   "outputs": [
    {
     "name": "stdout",
     "output_type": "stream",
     "text": [
      "0.0009142983879967259\n",
      "0.9982826275179507\n",
      "0.5077442149000129\n"
     ]
    }
   ],
   "source": [
    "print( min(xu_1000) )\n",
    "\n",
    "print( max(xu_1000) )\n",
    "\n",
    "print( my_avg(xu_1000) )"
   ]
  },
  {
   "cell_type": "code",
   "execution_count": 56,
   "metadata": {},
   "outputs": [
    {
     "name": "stdout",
     "output_type": "stream",
     "text": [
      "0.499876113483613\n"
     ]
    }
   ],
   "source": [
    "print( my_avg([random.random() for _ in range(10000)]) )"
   ]
  },
  {
   "cell_type": "markdown",
   "metadata": {},
   "source": [
    "### POINT ESTIMATE\n",
    "\n",
    "It does not say anything about the uncertainty in the estimate."
   ]
  },
  {
   "cell_type": "markdown",
   "metadata": {},
   "source": [
    "## SIMULATION\n",
    "\n",
    "Use random samples to study the uncertainty of the sample average estimate."
   ]
  },
  {
   "cell_type": "markdown",
   "metadata": {},
   "source": [
    "We were performing 2 actions to calculate the sample average:\n",
    "* Generate a random sequence from a specified distribution\n",
    "* Calculate the sample average"
   ]
  },
  {
   "cell_type": "code",
   "execution_count": 57,
   "metadata": {},
   "outputs": [],
   "source": [
    "# define a function that executes the two steps described above\n",
    "\n",
    "def gen_samples_calc_avg(N):\n",
    "    \"\"\" assume we are using the random.random() \"\"\"\n",
    "    return my_avg( [random.random() for _ in range(N)] )"
   ]
  },
  {
   "cell_type": "code",
   "execution_count": 58,
   "metadata": {},
   "outputs": [
    {
     "name": "stdout",
     "output_type": "stream",
     "text": [
      "0.5407598320800735\n"
     ]
    }
   ],
   "source": [
    "print( my_avg(yu) )"
   ]
  },
  {
   "cell_type": "code",
   "execution_count": 59,
   "metadata": {},
   "outputs": [
    {
     "data": {
      "text/plain": [
       "True"
      ]
     },
     "execution_count": 59,
     "metadata": {},
     "output_type": "execute_result"
    }
   ],
   "source": [
    "random.seed(21)\n",
    "\n",
    "gen_samples_calc_avg(7) == my_avg(yu)"
   ]
  },
  {
   "cell_type": "markdown",
   "metadata": {},
   "source": [
    "Let's calculate the sample average MANY, MANY, MANY times."
   ]
  },
  {
   "cell_type": "code",
   "execution_count": 60,
   "metadata": {},
   "outputs": [
    {
     "name": "stdout",
     "output_type": "stream",
     "text": [
      "0.49128172289705047\n",
      "0.6028632187643036\n",
      "0.571620183697683\n",
      "0.6356428162727541\n"
     ]
    }
   ],
   "source": [
    "random.seed(51)\n",
    "\n",
    "print( gen_samples_calc_avg(7) )\n",
    "\n",
    "print( gen_samples_calc_avg(7) )\n",
    "\n",
    "print( gen_samples_calc_avg(7) )\n",
    "\n",
    "print( gen_samples_calc_avg(7) )"
   ]
  },
  {
   "cell_type": "markdown",
   "metadata": {},
   "source": [
    "### Calculate the sample average 1000 times\n",
    "\n",
    "I will call this REPLICATE or REPEAT the sample average calculation."
   ]
  },
  {
   "cell_type": "code",
   "execution_count": 61,
   "metadata": {},
   "outputs": [],
   "source": [
    "random.seed(101)\n",
    "\n",
    "xbar_sim_N07_R1000 = [ gen_samples_calc_avg(7) for _ in range(1000) ]"
   ]
  },
  {
   "cell_type": "code",
   "execution_count": 62,
   "metadata": {},
   "outputs": [
    {
     "name": "stdout",
     "output_type": "stream",
     "text": [
      "1000\n"
     ]
    }
   ],
   "source": [
    "print( len(xbar_sim_N07_R1000) )"
   ]
  },
  {
   "cell_type": "markdown",
   "metadata": {},
   "source": [
    "### the average of the average"
   ]
  },
  {
   "cell_type": "code",
   "execution_count": 63,
   "metadata": {},
   "outputs": [
    {
     "name": "stdout",
     "output_type": "stream",
     "text": [
      "0.5045852639773879\n"
     ]
    }
   ],
   "source": [
    "print( my_avg(xbar_sim_N07_R1000) )"
   ]
  },
  {
   "cell_type": "code",
   "execution_count": 64,
   "metadata": {},
   "outputs": [
    {
     "name": "stdout",
     "output_type": "stream",
     "text": [
      "0.5046\n"
     ]
    }
   ],
   "source": [
    "print( round( my_avg(xbar_sim_N07_R1000), 4) )"
   ]
  },
  {
   "cell_type": "markdown",
   "metadata": {},
   "source": [
    "### distribution of the averages"
   ]
  },
  {
   "cell_type": "code",
   "execution_count": 68,
   "metadata": {},
   "outputs": [
    {
     "data": {
      "image/png": "[encoded data removed]",
      "text/plain": [
       "<Figure size 432x288 with 1 Axes>"
      ]
     },
     "metadata": {
      "needs_background": "light"
     },
     "output_type": "display_data"
    }
   ],
   "source": [
    "plt.hist(xbar_sim_N07_R1000, bins=11)\n",
    "plt.xlabel('xbar')\n",
    "plt.ylabel('count')\n",
    "plt.xlim(0, 1)\n",
    "plt.show()"
   ]
  },
  {
   "cell_type": "markdown",
   "metadata": {},
   "source": [
    "### Use more replications"
   ]
  },
  {
   "cell_type": "code",
   "execution_count": 69,
   "metadata": {},
   "outputs": [],
   "source": [
    "random.seed(101)\n",
    "\n",
    "xbar_sim_N07_R1e4 = [ gen_samples_calc_avg(7) for _ in range(int(1e4)) ]"
   ]
  },
  {
   "cell_type": "code",
   "execution_count": 70,
   "metadata": {},
   "outputs": [
    {
     "data": {
      "image/png": "[encoded data removed]",
      "text/plain": [
       "<Figure size 432x288 with 1 Axes>"
      ]
     },
     "metadata": {
      "needs_background": "light"
     },
     "output_type": "display_data"
    }
   ],
   "source": [
    "plt.hist(xbar_sim_N07_R1e4, bins=25)\n",
    "plt.xlabel('xbar')\n",
    "plt.ylabel('count')\n",
    "plt.xlim(0, 1)\n",
    "plt.show()"
   ]
  },
  {
   "cell_type": "code",
   "execution_count": 71,
   "metadata": {},
   "outputs": [
    {
     "name": "stdout",
     "output_type": "stream",
     "text": [
      "0.5007191489737309\n"
     ]
    }
   ],
   "source": [
    "print( my_avg( xbar_sim_N07_R1e4) )"
   ]
  },
  {
   "cell_type": "markdown",
   "metadata": {},
   "source": [
    "### small number of replications"
   ]
  },
  {
   "cell_type": "code",
   "execution_count": 72,
   "metadata": {},
   "outputs": [],
   "source": [
    "random.seed(101)\n",
    "\n",
    "xbar_sim_N07_R0015 = [ gen_samples_calc_avg(7) for _ in range(15) ]"
   ]
  },
  {
   "cell_type": "code",
   "execution_count": 74,
   "metadata": {},
   "outputs": [
    {
     "data": {
      "image/png": "[encoded data removed]",
      "text/plain": [
       "<Figure size 432x288 with 1 Axes>"
      ]
     },
     "metadata": {
      "needs_background": "light"
     },
     "output_type": "display_data"
    }
   ],
   "source": [
    "plt.hist(xbar_sim_N07_R0015, bins=101)\n",
    "plt.xlabel('xbar')\n",
    "plt.ylabel('count')\n",
    "plt.xlim(0, 1)\n",
    "plt.show()"
   ]
  },
  {
   "cell_type": "markdown",
   "metadata": {},
   "source": [
    "### repeat the replication process multiple times\n",
    "\n",
    "Use different number of replications each time."
   ]
  },
  {
   "cell_type": "code",
   "execution_count": 75,
   "metadata": {},
   "outputs": [
    {
     "name": "stdout",
     "output_type": "stream",
     "text": [
      "[5, 10, 20, 40, 80, 160, 320, 640, 1280, 2560, 5120, 10240]\n"
     ]
    }
   ],
   "source": [
    "num_replications = [ 5 * (2 ** ix) for ix in range(12) ]\n",
    "\n",
    "print( num_replications )"
   ]
  },
  {
   "cell_type": "code",
   "execution_count": 77,
   "metadata": {},
   "outputs": [
    {
     "data": {
      "image/png": "[encoded data removed]",
      "text/plain": [
       "<Figure size 1296x432 with 12 Axes>"
      ]
     },
     "metadata": {
      "needs_background": "light"
     },
     "output_type": "display_data"
    }
   ],
   "source": [
    "fix, axs = plt.subplots(2, 6, figsize=(18, 6), sharex=True, sharey=False)\n",
    "\n",
    "axs = axs.ravel()\n",
    "\n",
    "random.seed(801)\n",
    "for i, nr in enumerate(num_replications):\n",
    "    axs[i].hist([gen_samples_calc_avg(7) for _ in range(nr)], density=False, bins=15)\n",
    "    axs[i].set_title(\"nr: \" + str(nr))"
   ]
  },
  {
   "cell_type": "markdown",
   "metadata": {},
   "source": [
    "THIS IS THE CENTRAL LIMIT THEROEM (CLT) !!!!\n",
    "\n",
    "We could talk about the central limit theorem in more detail here."
   ]
  },
  {
   "cell_type": "markdown",
   "metadata": {},
   "source": [
    "## Sample variance\n",
    "\n",
    "$$ s^2 = \\frac{1}{N - 1} \\sum_{n=1}^{N} \\left( \\left( x_n - \\bar{x} \\right)^2 \\right) $$"
   ]
  },
  {
   "cell_type": "code",
   "execution_count": 78,
   "metadata": {},
   "outputs": [],
   "source": [
    "# define a function to calculate the sample variance\n",
    "def my_variance(x):\n",
    "    xbar = my_avg(x)\n",
    "    squared_deviation = [ (xn - xbar) ** 2 for xn in x ]\n",
    "    return sum(squared_deviation) / ( len(x) - 1 )"
   ]
  },
  {
   "cell_type": "code",
   "execution_count": 79,
   "metadata": {},
   "outputs": [
    {
     "name": "stdout",
     "output_type": "stream",
     "text": [
      "1.0\n"
     ]
    }
   ],
   "source": [
    "# check \n",
    "\n",
    "print( my_variance([1, 2, 3])  )"
   ]
  },
  {
   "cell_type": "code",
   "execution_count": 80,
   "metadata": {},
   "outputs": [
    {
     "name": "stdout",
     "output_type": "stream",
     "text": [
      "25.0\n"
     ]
    }
   ],
   "source": [
    "# check again\n",
    "\n",
    "print( my_variance([5, 10, 15]))"
   ]
  },
  {
   "cell_type": "code",
   "execution_count": 81,
   "metadata": {},
   "outputs": [
    {
     "name": "stdout",
     "output_type": "stream",
     "text": [
      "163840\n"
     ]
    }
   ],
   "source": [
    "num_replications_study = [5 * (2 ** ix) for ix in range(16)]\n",
    "\n",
    "print( max(num_replications_study))"
   ]
  },
  {
   "cell_type": "code",
   "execution_count": 82,
   "metadata": {},
   "outputs": [
    {
     "name": "stdout",
     "output_type": "stream",
     "text": [
      "[5, 10, 20, 40, 80, 160, 320, 640, 1280, 2560, 5120, 10240, 20480, 40960, 81920, 163840]\n"
     ]
    }
   ],
   "source": [
    "print( num_replications_study )"
   ]
  },
  {
   "cell_type": "code",
   "execution_count": 83,
   "metadata": {},
   "outputs": [],
   "source": [
    "# nested list comprehension\n",
    "\n",
    "# build up the sequence of steps\n",
    "\n",
    "# <output> = [ <variance per nr> for nr in num_replications_study ]\n",
    "\n",
    "# the inner most operation\n",
    "\n",
    "# <variance per nr> [ my_variance( [gen_samples_calc_avg(7) for _ in range(nr)] ) ]"
   ]
  },
  {
   "cell_type": "code",
   "execution_count": 84,
   "metadata": {},
   "outputs": [],
   "source": [
    "random.seed(9123)\n",
    "\n",
    "study_variance_N07 = [ my_variance( [gen_samples_calc_avg(7) for _ in range(nr)] ) for nr in num_replications_study ]"
   ]
  },
  {
   "cell_type": "code",
   "execution_count": 85,
   "metadata": {},
   "outputs": [
    {
     "name": "stdout",
     "output_type": "stream",
     "text": [
      "16\n"
     ]
    }
   ],
   "source": [
    "print( len(study_variance_N07) )"
   ]
  },
  {
   "cell_type": "code",
   "execution_count": 86,
   "metadata": {},
   "outputs": [
    {
     "name": "stdout",
     "output_type": "stream",
     "text": [
      "[0.0012069560247181387, 0.010133745121773813, 0.010493027105526447, 0.011744441362946122, 0.0138672983811197, 0.008687346895888258, 0.013560652930493099, 0.011616185589808925, 0.010938625322192393, 0.011906752336572268, 0.011662264566906723, 0.011870766528793587, 0.011879724464832252, 0.011947556918192246, 0.011965881939676534, 0.011948575292600473]\n"
     ]
    }
   ],
   "source": [
    "print( study_variance_N07 )"
   ]
  },
  {
   "cell_type": "code",
   "execution_count": 90,
   "metadata": {},
   "outputs": [
    {
     "data": {
      "image/png": "[encoded data removed]",
      "text/plain": [
       "<Figure size 432x288 with 1 Axes>"
      ]
     },
     "metadata": {
      "needs_background": "light"
     },
     "output_type": "display_data"
    }
   ],
   "source": [
    "# plot the results\n",
    "\n",
    "fig, ax = plt.subplots()\n",
    "\n",
    "ax.plot(num_replications_study, [ xv ** 0.5 for xv in study_variance_N07 ], '-o')\n",
    "ax.set_xscale('log')\n",
    "ax.set_xlabel('number of replications')\n",
    "ax.set_ylabel('standard deviation on xbar')\n",
    "ax.grid(True)\n",
    "plt.show()"
   ]
  },
  {
   "cell_type": "markdown",
   "metadata": {},
   "source": [
    "## SAMPLE SIZE\n",
    "\n",
    "Previously, we generated 7 random samples from the **sampling distribution**. We calculated the average based on those 7 random samples.\n",
    "\n",
    "What would happen if we used 25 samples instead of 7?"
   ]
  },
  {
   "cell_type": "code",
   "execution_count": 91,
   "metadata": {},
   "outputs": [
    {
     "name": "stdout",
     "output_type": "stream",
     "text": [
      "10240\n"
     ]
    }
   ],
   "source": [
    "sample_size_study = [ 5 * (2 ** ix) for ix in range(12) ]\n",
    "\n",
    "print( max(sample_size_study) )"
   ]
  },
  {
   "cell_type": "code",
   "execution_count": 92,
   "metadata": {},
   "outputs": [
    {
     "data": {
      "image/png": "[encoded data removed]",
      "text/plain": [
       "<Figure size 792x792 with 12 Axes>"
      ]
     },
     "metadata": {
      "needs_background": "light"
     },
     "output_type": "display_data"
    }
   ],
   "source": [
    "fig, axs = plt.subplots(3, 4, figsize=(11, 11), sharex=True, sharey=False)\n",
    "\n",
    "axs = axs.ravel()\n",
    "\n",
    "random.seed(801)\n",
    "\n",
    "for i, n in enumerate(sample_size_study):\n",
    "    axs[i].hist( [gen_samples_calc_avg(n) for _ in range(int(1e4))], density=True, bins=55 )\n",
    "    axs[i].set_title(\"N: \" + str(n))"
   ]
  },
  {
   "cell_type": "markdown",
   "metadata": {},
   "source": [
    "## Standard Error\n",
    "\n",
    "The standard deviation of the mean (average) is called the standard error of the mean."
   ]
  },
  {
   "cell_type": "code",
   "execution_count": 93,
   "metadata": {},
   "outputs": [
    {
     "name": "stdout",
     "output_type": "stream",
     "text": [
      "40960\n"
     ]
    }
   ],
   "source": [
    "sample_size_study_b = [ 5 * (2 ** ix) for ix in range(14) ]\n",
    "\n",
    "print( max(sample_size_study_b) )"
   ]
  },
  {
   "cell_type": "code",
   "execution_count": 94,
   "metadata": {},
   "outputs": [],
   "source": [
    "# use 5000 replications instead of 10000 to save time\n",
    "\n",
    "random.seed(9213)\n",
    "\n",
    "study_variance_vs_samplesize = [ my_variance([gen_samples_calc_avg(n) for _ in range(2500)]) for n in sample_size_study_b ]"
   ]
  },
  {
   "cell_type": "code",
   "execution_count": 95,
   "metadata": {},
   "outputs": [
    {
     "data": {
      "image/png": "[encoded data removed]",
      "text/plain": [
       "<Figure size 432x288 with 1 Axes>"
      ]
     },
     "metadata": {
      "needs_background": "light"
     },
     "output_type": "display_data"
    }
   ],
   "source": [
    "### plot the standard error vs the sample size\n",
    "\n",
    "fig, ax = plt.subplots()\n",
    "\n",
    "ax.plot(sample_size_study_b, [ xv ** 0.5 for xv in study_variance_vs_samplesize ], '-o')\n",
    "ax.set_xscale('log')\n",
    "ax.set_xlabel('sample size')\n",
    "ax.set_ylabel('standard error on the average')\n",
    "ax.grid(True)\n",
    "plt.show()"
   ]
  },
  {
   "cell_type": "markdown",
   "metadata": {},
   "source": [
    "### formula for the standard error on the average\n",
    "\n",
    "$$ se = \\frac{\\sigma}{\\sqrt{N}} $$"
   ]
  },
  {
   "cell_type": "markdown",
   "metadata": {},
   "source": [
    "$ \\sigma $ is the standard deviation of the sampling distribution."
   ]
  },
  {
   "cell_type": "markdown",
   "metadata": {},
   "source": [
    "The variance of a uniform distribution between bounds $a$ and $b$:  \n",
    "\n",
    "$$ \\mathrm{Variance} = \\frac{1}{12} \\left( b - a \\right)^{2} $$"
   ]
  },
  {
   "cell_type": "markdown",
   "metadata": {},
   "source": [
    "Our uniform distribution between 0 and 1 the standard deviation is then:\n",
    "\n",
    "$$ \\sigma = \\frac{1}{\\sqrt{12}} $$"
   ]
  },
  {
   "cell_type": "code",
   "execution_count": 96,
   "metadata": {},
   "outputs": [
    {
     "data": {
      "image/png": "[encoded data removed]",
      "text/plain": [
       "<Figure size 864x432 with 1 Axes>"
      ]
     },
     "metadata": {
      "needs_background": "light"
     },
     "output_type": "display_data"
    }
   ],
   "source": [
    "fig, ax = plt.subplots(figsize=(12, 6))\n",
    "\n",
    "ax.plot(sample_size_study_b, [ xv ** 0.5 for xv in study_variance_vs_samplesize ], '-o', label='simulation')\n",
    "ax.plot(sample_size_study_b, [ ((1 / 12) / n) ** 0.5 for n in sample_size_study_b ], ':sr', label='analytic')\n",
    "ax.set_xscale('log')\n",
    "ax.set_xlabel('sample size')\n",
    "ax.set_ylabel('standard error on the average')\n",
    "ax.grid(True)\n",
    "ax.legend()\n",
    "plt.show()"
   ]
  },
  {
   "cell_type": "markdown",
   "metadata": {},
   "source": [
    "## Using the standard error"
   ]
  },
  {
   "cell_type": "code",
   "execution_count": 97,
   "metadata": {},
   "outputs": [
    {
     "name": "stdout",
     "output_type": "stream",
     "text": [
      "[0.16494947983319797, 0.6897669242175674, 0.6349999404047206, 0.4791004720574512, 0.21601434789390284, 0.7926333582002464, 0.8078543019534277]\n"
     ]
    }
   ],
   "source": [
    "print( yu )"
   ]
  },
  {
   "cell_type": "code",
   "execution_count": 98,
   "metadata": {},
   "outputs": [
    {
     "name": "stdout",
     "output_type": "stream",
     "text": [
      "[0.1649, 0.6898, 0.635, 0.4791, 0.216, 0.7926, 0.8079]\n"
     ]
    }
   ],
   "source": [
    "print( [round(x, 4) for x in yu] )"
   ]
  },
  {
   "cell_type": "code",
   "execution_count": 99,
   "metadata": {},
   "outputs": [
    {
     "name": "stdout",
     "output_type": "stream",
     "text": [
      "0.5408\n"
     ]
    }
   ],
   "source": [
    "print( round( my_avg(yu), 4) )"
   ]
  },
  {
   "cell_type": "code",
   "execution_count": 100,
   "metadata": {},
   "outputs": [
    {
     "name": "stdout",
     "output_type": "stream",
     "text": [
      "0.2634\n"
     ]
    }
   ],
   "source": [
    "print( round( my_variance(yu) ** 0.5, 4) )"
   ]
  },
  {
   "cell_type": "code",
   "execution_count": 101,
   "metadata": {},
   "outputs": [
    {
     "name": "stdout",
     "output_type": "stream",
     "text": [
      "0.0996\n"
     ]
    }
   ],
   "source": [
    "## standard error on the average?\n",
    "\n",
    "print( round( (my_variance(yu) / len(yu)) ** 0.5, 4) )"
   ]
  },
  {
   "cell_type": "code",
   "execution_count": 102,
   "metadata": {},
   "outputs": [
    {
     "name": "stdout",
     "output_type": "stream",
     "text": [
      "0.54 +/- 0.20\n"
     ]
    }
   ],
   "source": [
    "print( \"%1.2f +/- %1.2f\" % (my_avg(yu), 2 * (my_variance(yu) / len(yu))**0.5) )"
   ]
  },
  {
   "cell_type": "markdown",
   "metadata": {},
   "source": [
    "## generate a gaussian random variable"
   ]
  },
  {
   "cell_type": "code",
   "execution_count": 103,
   "metadata": {},
   "outputs": [
    {
     "data": {
      "text/plain": [
       "-18.085037979516997"
      ]
     },
     "execution_count": 103,
     "metadata": {},
     "output_type": "execute_result"
    }
   ],
   "source": [
    "random.seed(101)\n",
    "\n",
    "random.gauss(mu=25, sigma=75)"
   ]
  },
  {
   "cell_type": "code",
   "execution_count": null,
   "metadata": {},
   "outputs": [],
   "source": []
  }
 ],
 "metadata": {
  "kernelspec": {
   "display_name": "Python 3",
   "language": "python",
   "name": "python3"
  },
  "language_info": {
   "codemirror_mode": {
    "name": "ipython",
    "version": 3
   },
   "file_extension": ".py",
   "mimetype": "text/x-python",
   "name": "python",
   "nbconvert_exporter": "python",
   "pygments_lexer": "ipython3",
   "version": "3.8.3"
  }
 },
 "nbformat": 4,
 "nbformat_minor": 4
}
